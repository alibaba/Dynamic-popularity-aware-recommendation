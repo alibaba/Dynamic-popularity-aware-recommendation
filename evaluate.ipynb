{
 "cells": [
  {
   "cell_type": "code",
   "execution_count": 1,
   "id": "cb296d59",
   "metadata": {},
   "outputs": [],
   "source": [
    "import faiss\n",
    "import numpy as np\n",
    "import pandas as pd\n",
    "from datetime import datetime,timedelta"
   ]
  },
  {
   "cell_type": "code",
   "execution_count": 2,
   "id": "371fe516",
   "metadata": {},
   "outputs": [],
   "source": [
    "train_df = pd.read_pickle('data/train_df.pkl')\n",
    "test_df = pd.read_pickle('data/test_df.pkl')\n",
    "test_df = test_df[[\"item_no\",\"user_no\",\"time\"]]\n",
    "train_df = train_df[[\"item_no\",\"user_no\",\"time\"]]\n",
    "test_df_userno_group = test_df.groupby(\"user_no\") "
   ]
  },
  {
   "cell_type": "code",
   "execution_count": 3,
   "id": "b04fed0d",
   "metadata": {},
   "outputs": [],
   "source": [
    "def load_m4():\n",
    "    userid_vectors = np.load(\"userid_vectors_m4.npy\",)\n",
    "    userid_index = np.load(\"userid_index_m4.npy\")\n",
    "    itemid_vectors = np.load(\"itemid_vectors_m4.npy\")\n",
    "    itemid_index = np.load(\"itemid_index_m4.npy\")\n",
    "    return userid_vectors,userid_index,itemid_vectors,itemid_index"
   ]
  },
  {
   "cell_type": "code",
   "execution_count": 4,
   "id": "a3e13359",
   "metadata": {},
   "outputs": [],
   "source": [
    "def load_m5():\n",
    "    userid_vectors = np.load(\"userid_vectors_M5.npy\",)\n",
    "    userid_index = np.load(\"userid_index_M5.npy\")\n",
    "    itemid_vectors = np.load(\"itemid_vectors_M5.npy\")\n",
    "    itemid_index = np.load(\"itemid_index_M5.npy\")\n",
    "    return userid_vectors,userid_index,itemid_vectors,itemid_index"
   ]
  },
  {
   "cell_type": "code",
   "execution_count": 5,
   "id": "a9c5e6c2",
   "metadata": {},
   "outputs": [],
   "source": [
    "def load_fullsoftmax():\n",
    "    userid_vectors = np.load(\"userid_vectors_fullsoftmax.npy\",)\n",
    "    userid_index = np.load(\"userid_index_fullsoftmax.npy\")\n",
    "    itemid_vectors = np.load(\"itemid_vectors_fullsoftmax.npy\")\n",
    "    itemid_index = np.load(\"itemid_index_fullsoftmax.npy\")\n",
    "    return userid_vectors,userid_index,itemid_vectors,itemid_index"
   ]
  },
  {
   "cell_type": "code",
   "execution_count": 6,
   "id": "3b7dd5a8",
   "metadata": {},
   "outputs": [],
   "source": [
    "def evluate(dim):\n",
    "    index=faiss.IndexFlatIP(dim)\n",
    "    index.add(itemid_vectors)\n",
    "    D, I = index.search(userid_vectors, 1000)\n",
    "    for k in [1,5,10,50,100,300,500,1000]:\n",
    "        recall_sum = 0\n",
    "        item_sum = 0\n",
    "        for i in range(len(userid_index)):\n",
    "            user_item_label = test_df_userno_group.get_group(userid_index[i]).item_no.tolist()\n",
    "            user_item_topK = set(itemid_index[I[i][:k]].tolist())\n",
    "            count = 0\n",
    "            for item_no in user_item_label:\n",
    "                if item_no in user_item_topK:\n",
    "                    count+=1\n",
    "            recall_sum += count\n",
    "            item_sum += len(user_item_label)\n",
    "        recall = recall_sum/item_sum\n",
    "        print(\"Recall@\" + str(k) + \" = \"+ str(round(recall,4)))"
   ]
  },
  {
   "cell_type": "markdown",
   "id": "2e15040a",
   "metadata": {},
   "source": [
    "## POP"
   ]
  },
  {
   "cell_type": "code",
   "execution_count": 7,
   "id": "72adb7f7",
   "metadata": {},
   "outputs": [
    {
     "name": "stdout",
     "output_type": "stream",
     "text": [
      "Methods POP:\n",
      "Recall@1 = 0.0001\n",
      "Recall@5 = 0.0012\n",
      "Recall@10 = 0.0019\n",
      "Recall@50 = 0.0064\n",
      "Recall@100 = 0.0115\n"
     ]
    }
   ],
   "source": [
    "%run DPACL/Methods_POP.py "
   ]
  },
  {
   "cell_type": "markdown",
   "id": "ad203baf",
   "metadata": {},
   "source": [
    "## POP_RealTime"
   ]
  },
  {
   "cell_type": "code",
   "execution_count": 8,
   "id": "4f95fa54",
   "metadata": {},
   "outputs": [
    {
     "name": "stdout",
     "output_type": "stream",
     "text": [
      "Methods_POP_RealTime:\n",
      "Recall@1 = 0.001\n",
      "Recall@5 = 0.004\n",
      "Recall@10 = 0.0063\n",
      "Recall@50 = 0.0194\n",
      "Recall@100 = 0.0308\n"
     ]
    }
   ],
   "source": [
    "%run DPACL/Methods_POP_RealTime.py "
   ]
  },
  {
   "cell_type": "markdown",
   "id": "20b073c2",
   "metadata": {},
   "source": [
    "## DeepU2I_FullSoftmax"
   ]
  },
  {
   "cell_type": "code",
   "execution_count": 9,
   "id": "cf399905",
   "metadata": {},
   "outputs": [
    {
     "name": "stdout",
     "output_type": "stream",
     "text": [
      "Recall@1 = 0.0225\n",
      "Recall@5 = 0.0736\n",
      "Recall@10 = 0.1068\n",
      "Recall@50 = 0.1856\n",
      "Recall@100 = 0.2167\n",
      "Recall@300 = 0.264\n",
      "Recall@500 = 0.2869\n",
      "Recall@1000 = 0.3222\n"
     ]
    }
   ],
   "source": [
    "userid_vectors,userid_index,itemid_vectors,itemid_index = load_fullsoftmax()\n",
    "evluate(128)"
   ]
  },
  {
   "cell_type": "markdown",
   "id": "858a9a42",
   "metadata": {},
   "source": [
    "## M4"
   ]
  },
  {
   "cell_type": "code",
   "execution_count": 10,
   "id": "0b89a2b9",
   "metadata": {},
   "outputs": [
    {
     "name": "stdout",
     "output_type": "stream",
     "text": [
      "Recall@1 = 0.0272\n",
      "Recall@5 = 0.0762\n",
      "Recall@10 = 0.108\n",
      "Recall@50 = 0.1876\n",
      "Recall@100 = 0.2201\n",
      "Recall@300 = 0.2629\n",
      "Recall@500 = 0.2838\n",
      "Recall@1000 = 0.3176\n"
     ]
    }
   ],
   "source": [
    "userid_vectors,userid_index,itemid_vectors,itemid_index = load_m4()\n",
    "evluate(128)"
   ]
  },
  {
   "cell_type": "markdown",
   "id": "a9ac8656",
   "metadata": {},
   "source": [
    "## M5 "
   ]
  },
  {
   "cell_type": "code",
   "execution_count": 11,
   "id": "fbeee892",
   "metadata": {},
   "outputs": [
    {
     "name": "stdout",
     "output_type": "stream",
     "text": [
      "Recall@1 = 0.0327\n",
      "Recall@5 = 0.0908\n",
      "Recall@10 = 0.1273\n",
      "Recall@50 = 0.2037\n",
      "Recall@100 = 0.2285\n",
      "Recall@300 = 0.2665\n",
      "Recall@500 = 0.2877\n",
      "Recall@1000 = 0.3216\n"
     ]
    }
   ],
   "source": [
    "userid_vectors,userid_index,itemid_vectors,itemid_index = load_m5()\n",
    "evluate(128)"
   ]
  },
  {
   "cell_type": "markdown",
   "id": "140e1bd5",
   "metadata": {},
   "source": [
    "## M0(M4+test_dy_30day)"
   ]
  },
  {
   "cell_type": "code",
   "execution_count": 12,
   "id": "dabdf009",
   "metadata": {},
   "outputs": [
    {
     "name": "stdout",
     "output_type": "stream",
     "text": [
      "Recall@1 = 0.0484\n",
      "Recall@5 = 0.1163\n",
      "Recall@10 = 0.1501\n",
      "Recall@50 = 0.2268\n",
      "Recall@100 = 0.2589\n",
      "Recall@300 = 0.3202\n",
      "Recall@500 = 0.355\n",
      "Recall@1000 = 0.4114\n"
     ]
    }
   ],
   "source": [
    "userid_vectors,userid_index,itemid_vectors,itemid_index = load_m4()\n",
    "item_df = train_df[[\"item_no\"]]\n",
    "item_num_dict = item_df[\"item_no\"].value_counts().to_dict()\n",
    "adjust_vector = np.array([np.log(item_num_dict.get(item_no,0)+1)/20 for item_no in itemid_index])\n",
    "userid_vectors = np.column_stack((userid_vectors,np.ones(userid_vectors.shape[0]))).astype(np.float32)\n",
    "itemid_vectors = np.column_stack((itemid_vectors,adjust_vector)).astype(np.float32)\n",
    "evluate(129)"
   ]
  },
  {
   "cell_type": "markdown",
   "id": "c1fd8a4a",
   "metadata": {},
   "source": [
    "## M1(M5+test_dy_30day)"
   ]
  },
  {
   "cell_type": "code",
   "execution_count": 13,
   "id": "8326c787",
   "metadata": {},
   "outputs": [
    {
     "name": "stdout",
     "output_type": "stream",
     "text": [
      "Recall@1 = 0.0547\n",
      "Recall@5 = 0.123\n",
      "Recall@10 = 0.1571\n",
      "Recall@50 = 0.2301\n",
      "Recall@100 = 0.2624\n",
      "Recall@300 = 0.324\n",
      "Recall@500 = 0.3593\n",
      "Recall@1000 = 0.4163\n"
     ]
    }
   ],
   "source": [
    "userid_vectors,userid_index,itemid_vectors,itemid_index = load_m5()\n",
    "item_df = train_df[[\"item_no\"]]\n",
    "item_num_dict = item_df[\"item_no\"].value_counts().to_dict()\n",
    "adjust_vector = np.array([np.log(item_num_dict.get(item_no,0)+1)/20 for item_no in itemid_index])\n",
    "userid_vectors = np.column_stack((userid_vectors,np.ones(userid_vectors.shape[0]))).astype(np.float32)\n",
    "itemid_vectors = np.column_stack((itemid_vectors,adjust_vector)).astype(np.float32)\n",
    "evluate(129)"
   ]
  },
  {
   "cell_type": "markdown",
   "id": "777d5400",
   "metadata": {},
   "source": [
    "## M2(M4+test_dy_24hour)"
   ]
  },
  {
   "cell_type": "code",
   "execution_count": 14,
   "id": "64dcb356",
   "metadata": {},
   "outputs": [
    {
     "name": "stdout",
     "output_type": "stream",
     "text": [
      "cal hour: 0\n",
      "cal hour: 1\n",
      "cal hour: 2\n",
      "cal hour: 3\n",
      "cal hour: 4\n",
      "cal hour: 5\n",
      "cal hour: 6\n",
      "cal hour: 7\n",
      "cal hour: 8\n",
      "cal hour: 9\n",
      "cal hour: 10\n",
      "cal hour: 11\n",
      "cal hour: 12\n",
      "cal hour: 13\n",
      "cal hour: 14\n",
      "cal hour: 15\n",
      "cal hour: 16\n",
      "cal hour: 17\n",
      "cal hour: 18\n",
      "cal hour: 19\n",
      "cal hour: 20\n",
      "cal hour: 21\n",
      "cal hour: 22\n",
      "cal hour: 23\n",
      "Recall@1 = 0.0322\n",
      "Recall@5 = 0.0886\n",
      "Recall@10 = 0.12\n",
      "Recall@50 = 0.2043\n",
      "Recall@100 = 0.239\n",
      "Recall@300 = 0.2971\n",
      "Recall@500 = 0.3279\n",
      "Recall@1000 = 0.3757\n"
     ]
    }
   ],
   "source": [
    "%run DPACL/Evaluate_DeepU2I_M2.py"
   ]
  },
  {
   "cell_type": "markdown",
   "id": "fa90f9e9",
   "metadata": {},
   "source": [
    "## M3(M5+test_dy_24hour)"
   ]
  },
  {
   "cell_type": "code",
   "execution_count": 15,
   "id": "1bba6d12",
   "metadata": {},
   "outputs": [
    {
     "name": "stdout",
     "output_type": "stream",
     "text": [
      "cal hour: 0\n",
      "cal hour: 1\n",
      "cal hour: 2\n",
      "cal hour: 3\n",
      "cal hour: 4\n",
      "cal hour: 5\n",
      "cal hour: 6\n",
      "cal hour: 7\n",
      "cal hour: 8\n",
      "cal hour: 9\n",
      "cal hour: 10\n",
      "cal hour: 11\n",
      "cal hour: 12\n",
      "cal hour: 13\n",
      "cal hour: 14\n",
      "cal hour: 15\n",
      "cal hour: 16\n",
      "cal hour: 17\n",
      "cal hour: 18\n",
      "cal hour: 19\n",
      "cal hour: 20\n",
      "cal hour: 21\n",
      "cal hour: 22\n",
      "cal hour: 23\n",
      "Recall@1 = 0.0397\n",
      "Recall@5 = 0.0998\n",
      "Recall@10 = 0.135\n",
      "Recall@50 = 0.2136\n",
      "Recall@100 = 0.2447\n",
      "Recall@300 = 0.2991\n",
      "Recall@500 = 0.3291\n",
      "Recall@1000 = 0.3794\n"
     ]
    }
   ],
   "source": [
    "%run DPACL/Evaluate_DeepU2I_M3.py"
   ]
  },
  {
   "cell_type": "code",
   "execution_count": null,
   "id": "95cf149d",
   "metadata": {},
   "outputs": [],
   "source": []
  }
 ],
 "metadata": {
  "kernelspec": {
   "display_name": "Python 3",
   "language": "python",
   "name": "python3"
  },
  "language_info": {
   "codemirror_mode": {
    "name": "ipython",
    "version": 3
   },
   "file_extension": ".py",
   "mimetype": "text/x-python",
   "name": "python",
   "nbconvert_exporter": "python",
   "pygments_lexer": "ipython3",
   "version": "3.6.13"
  }
 },
 "nbformat": 4,
 "nbformat_minor": 5
}
